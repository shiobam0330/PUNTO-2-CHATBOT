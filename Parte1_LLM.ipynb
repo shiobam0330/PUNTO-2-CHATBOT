{
 "cells": [
  {
   "cell_type": "markdown",
   "metadata": {},
   "source": [
    "# Librerias"
   ]
  },
  {
   "cell_type": "code",
   "execution_count": 41,
   "metadata": {},
   "outputs": [
    {
     "name": "stdout",
     "output_type": "stream",
     "text": [
      "^C\n",
      "Requirement already satisfied: typing_extensions in c:\\users\\shiob\\.conda\\envs\\my_env\\lib\\site-packages (4.12.2)\n",
      "Requirement already satisfied: openai in c:\\users\\shiob\\.conda\\envs\\my_env\\lib\\site-packages (1.55.0)\n",
      "Requirement already satisfied: anyio<5,>=3.5.0 in c:\\users\\shiob\\.conda\\envs\\my_env\\lib\\site-packages (from openai) (4.6.2)\n",
      "Requirement already satisfied: distro<2,>=1.7.0 in c:\\users\\shiob\\.conda\\envs\\my_env\\lib\\site-packages (from openai) (1.9.0)\n",
      "Requirement already satisfied: httpx<1,>=0.23.0 in c:\\users\\shiob\\.conda\\envs\\my_env\\lib\\site-packages (from openai) (0.27.0)\n",
      "Requirement already satisfied: jiter<1,>=0.4.0 in c:\\users\\shiob\\.conda\\envs\\my_env\\lib\\site-packages (from openai) (0.7.1)\n",
      "Requirement already satisfied: pydantic<3,>=1.9.0 in c:\\users\\shiob\\.conda\\envs\\my_env\\lib\\site-packages (from openai) (2.9.2)\n",
      "Requirement already satisfied: sniffio in c:\\users\\shiob\\.conda\\envs\\my_env\\lib\\site-packages (from openai) (1.3.0)\n",
      "Requirement already satisfied: tqdm>4 in c:\\users\\shiob\\.conda\\envs\\my_env\\lib\\site-packages (from openai) (4.67.0)\n",
      "Requirement already satisfied: typing-extensions<5,>=4.11 in c:\\users\\shiob\\.conda\\envs\\my_env\\lib\\site-packages (from openai) (4.12.2)\n",
      "Requirement already satisfied: idna>=2.8 in c:\\users\\shiob\\.conda\\envs\\my_env\\lib\\site-packages (from anyio<5,>=3.5.0->openai) (3.10)\n",
      "Requirement already satisfied: exceptiongroup>=1.0.2 in c:\\users\\shiob\\.conda\\envs\\my_env\\lib\\site-packages (from anyio<5,>=3.5.0->openai) (1.2.0)\n",
      "Requirement already satisfied: certifi in c:\\users\\shiob\\.conda\\envs\\my_env\\lib\\site-packages (from httpx<1,>=0.23.0->openai) (2024.8.30)\n",
      "Requirement already satisfied: httpcore==1.* in c:\\users\\shiob\\.conda\\envs\\my_env\\lib\\site-packages (from httpx<1,>=0.23.0->openai) (1.0.2)\n",
      "Requirement already satisfied: h11<0.15,>=0.13 in c:\\users\\shiob\\.conda\\envs\\my_env\\lib\\site-packages (from httpcore==1.*->httpx<1,>=0.23.0->openai) (0.14.0)\n",
      "Requirement already satisfied: annotated-types>=0.6.0 in c:\\users\\shiob\\.conda\\envs\\my_env\\lib\\site-packages (from pydantic<3,>=1.9.0->openai) (0.7.0)\n",
      "Requirement already satisfied: pydantic-core==2.23.4 in c:\\users\\shiob\\.conda\\envs\\my_env\\lib\\site-packages (from pydantic<3,>=1.9.0->openai) (2.23.4)\n",
      "Requirement already satisfied: colorama in c:\\users\\shiob\\.conda\\envs\\my_env\\lib\\site-packages (from tqdm>4->openai) (0.4.6)\n",
      "Requirement already satisfied: pypdf in c:\\users\\shiob\\.conda\\envs\\my_env\\lib\\site-packages (5.1.0)\n",
      "Requirement already satisfied: typing_extensions>=4.0 in c:\\users\\shiob\\.conda\\envs\\my_env\\lib\\site-packages (from pypdf) (4.12.2)\n",
      "Requirement already satisfied: langchain in c:\\users\\shiob\\.conda\\envs\\my_env\\lib\\site-packages (0.3.7)\n",
      "Requirement already satisfied: PyYAML>=5.3 in c:\\users\\shiob\\.conda\\envs\\my_env\\lib\\site-packages (from langchain) (6.0.2)\n",
      "Requirement already satisfied: SQLAlchemy<3,>=1.4 in c:\\users\\shiob\\.conda\\envs\\my_env\\lib\\site-packages (from langchain) (2.0.35)\n",
      "Requirement already satisfied: aiohttp<4.0.0,>=3.8.3 in c:\\users\\shiob\\.conda\\envs\\my_env\\lib\\site-packages (from langchain) (3.11.7)\n",
      "Requirement already satisfied: async-timeout<5.0.0,>=4.0.0 in c:\\users\\shiob\\.conda\\envs\\my_env\\lib\\site-packages (from langchain) (4.0.3)\n",
      "Requirement already satisfied: langchain-core<0.4.0,>=0.3.15 in c:\\users\\shiob\\.conda\\envs\\my_env\\lib\\site-packages (from langchain) (0.3.19)\n",
      "Requirement already satisfied: langchain-text-splitters<0.4.0,>=0.3.0 in c:\\users\\shiob\\.conda\\envs\\my_env\\lib\\site-packages (from langchain) (0.3.2)\n",
      "Requirement already satisfied: langsmith<0.2.0,>=0.1.17 in c:\\users\\shiob\\.conda\\envs\\my_env\\lib\\site-packages (from langchain) (0.1.144)\n",
      "Requirement already satisfied: numpy<2,>=1 in c:\\users\\shiob\\.conda\\envs\\my_env\\lib\\site-packages (from langchain) (1.26.4)\n",
      "Requirement already satisfied: pydantic<3.0.0,>=2.7.4 in c:\\users\\shiob\\.conda\\envs\\my_env\\lib\\site-packages (from langchain) (2.9.2)\n",
      "Requirement already satisfied: requests<3,>=2 in c:\\users\\shiob\\.conda\\envs\\my_env\\lib\\site-packages (from langchain) (2.32.3)\n",
      "Requirement already satisfied: tenacity!=8.4.0,<10,>=8.1.0 in c:\\users\\shiob\\.conda\\envs\\my_env\\lib\\site-packages (from langchain) (9.0.0)\n",
      "Requirement already satisfied: aiohappyeyeballs>=2.3.0 in c:\\users\\shiob\\.conda\\envs\\my_env\\lib\\site-packages (from aiohttp<4.0.0,>=3.8.3->langchain) (2.4.3)\n",
      "Requirement already satisfied: aiosignal>=1.1.2 in c:\\users\\shiob\\.conda\\envs\\my_env\\lib\\site-packages (from aiohttp<4.0.0,>=3.8.3->langchain) (1.3.1)\n",
      "Requirement already satisfied: attrs>=17.3.0 in c:\\users\\shiob\\.conda\\envs\\my_env\\lib\\site-packages (from aiohttp<4.0.0,>=3.8.3->langchain) (24.2.0)\n",
      "Requirement already satisfied: frozenlist>=1.1.1 in c:\\users\\shiob\\.conda\\envs\\my_env\\lib\\site-packages (from aiohttp<4.0.0,>=3.8.3->langchain) (1.5.0)\n",
      "Requirement already satisfied: multidict<7.0,>=4.5 in c:\\users\\shiob\\.conda\\envs\\my_env\\lib\\site-packages (from aiohttp<4.0.0,>=3.8.3->langchain) (6.1.0)\n",
      "Requirement already satisfied: propcache>=0.2.0 in c:\\users\\shiob\\.conda\\envs\\my_env\\lib\\site-packages (from aiohttp<4.0.0,>=3.8.3->langchain) (0.2.0)\n",
      "Requirement already satisfied: yarl<2.0,>=1.17.0 in c:\\users\\shiob\\.conda\\envs\\my_env\\lib\\site-packages (from aiohttp<4.0.0,>=3.8.3->langchain) (1.18.0)\n",
      "Requirement already satisfied: jsonpatch<2.0,>=1.33 in c:\\users\\shiob\\.conda\\envs\\my_env\\lib\\site-packages (from langchain-core<0.4.0,>=0.3.15->langchain) (1.33)\n",
      "Requirement already satisfied: packaging<25,>=23.2 in c:\\users\\shiob\\.conda\\envs\\my_env\\lib\\site-packages (from langchain-core<0.4.0,>=0.3.15->langchain) (24.1)\n",
      "Requirement already satisfied: typing-extensions>=4.7 in c:\\users\\shiob\\.conda\\envs\\my_env\\lib\\site-packages (from langchain-core<0.4.0,>=0.3.15->langchain) (4.12.2)\n",
      "Requirement already satisfied: httpx<1,>=0.23.0 in c:\\users\\shiob\\.conda\\envs\\my_env\\lib\\site-packages (from langsmith<0.2.0,>=0.1.17->langchain) (0.27.0)\n",
      "Requirement already satisfied: orjson<4.0.0,>=3.9.14 in c:\\users\\shiob\\.conda\\envs\\my_env\\lib\\site-packages (from langsmith<0.2.0,>=0.1.17->langchain) (3.10.11)\n",
      "Requirement already satisfied: requests-toolbelt<2.0.0,>=1.0.0 in c:\\users\\shiob\\.conda\\envs\\my_env\\lib\\site-packages (from langsmith<0.2.0,>=0.1.17->langchain) (1.0.0)\n",
      "Requirement already satisfied: annotated-types>=0.6.0 in c:\\users\\shiob\\.conda\\envs\\my_env\\lib\\site-packages (from pydantic<3.0.0,>=2.7.4->langchain) (0.7.0)\n",
      "Requirement already satisfied: pydantic-core==2.23.4 in c:\\users\\shiob\\.conda\\envs\\my_env\\lib\\site-packages (from pydantic<3.0.0,>=2.7.4->langchain) (2.23.4)\n",
      "Requirement already satisfied: charset-normalizer<4,>=2 in c:\\users\\shiob\\.conda\\envs\\my_env\\lib\\site-packages (from requests<3,>=2->langchain) (3.3.2)\n",
      "Requirement already satisfied: idna<4,>=2.5 in c:\\users\\shiob\\.conda\\envs\\my_env\\lib\\site-packages (from requests<3,>=2->langchain) (3.10)\n",
      "Requirement already satisfied: urllib3<3,>=1.21.1 in c:\\users\\shiob\\.conda\\envs\\my_env\\lib\\site-packages (from requests<3,>=2->langchain) (2.2.3)\n",
      "Requirement already satisfied: certifi>=2017.4.17 in c:\\users\\shiob\\.conda\\envs\\my_env\\lib\\site-packages (from requests<3,>=2->langchain) (2024.8.30)\n",
      "Requirement already satisfied: greenlet!=0.4.17 in c:\\users\\shiob\\.conda\\envs\\my_env\\lib\\site-packages (from SQLAlchemy<3,>=1.4->langchain) (3.1.1)\n",
      "Requirement already satisfied: anyio in c:\\users\\shiob\\.conda\\envs\\my_env\\lib\\site-packages (from httpx<1,>=0.23.0->langsmith<0.2.0,>=0.1.17->langchain) (4.6.2)\n",
      "Requirement already satisfied: httpcore==1.* in c:\\users\\shiob\\.conda\\envs\\my_env\\lib\\site-packages (from httpx<1,>=0.23.0->langsmith<0.2.0,>=0.1.17->langchain) (1.0.2)\n",
      "Requirement already satisfied: sniffio in c:\\users\\shiob\\.conda\\envs\\my_env\\lib\\site-packages (from httpx<1,>=0.23.0->langsmith<0.2.0,>=0.1.17->langchain) (1.3.0)\n",
      "Requirement already satisfied: h11<0.15,>=0.13 in c:\\users\\shiob\\.conda\\envs\\my_env\\lib\\site-packages (from httpcore==1.*->httpx<1,>=0.23.0->langsmith<0.2.0,>=0.1.17->langchain) (0.14.0)\n",
      "Requirement already satisfied: jsonpointer>=1.9 in c:\\users\\shiob\\.conda\\envs\\my_env\\lib\\site-packages (from jsonpatch<2.0,>=1.33->langchain-core<0.4.0,>=0.3.15->langchain) (3.0.0)\n",
      "Requirement already satisfied: exceptiongroup>=1.0.2 in c:\\users\\shiob\\.conda\\envs\\my_env\\lib\\site-packages (from anyio->httpx<1,>=0.23.0->langsmith<0.2.0,>=0.1.17->langchain) (1.2.0)\n"
     ]
    }
   ],
   "source": [
    "# !pip install streamlit\n",
    "# #https://dashboard.ngrok.com/signup\n",
    "!pip install --upgrade typing_extensions\n",
    "!pip install openai\n",
    "!pip install pypdf\n",
    "!pip install langchain"
   ]
  },
  {
   "cell_type": "code",
   "execution_count": null,
   "metadata": {},
   "outputs": [],
   "source": [
    "from langchain.document_loaders import PyPDFLoader\n",
    "from langchain.text_splitter import RecursiveCharacterTextSplitter\n",
    "import pandas as pd"
   ]
  },
  {
   "cell_type": "code",
   "execution_count": null,
   "metadata": {},
   "outputs": [],
   "source": [
    "loader = PyPDFLoader(\"llm_doc.pdf\")\n",
    "documento = loader.load()"
   ]
  },
  {
   "cell_type": "markdown",
   "metadata": {},
   "source": [
    "# Chunks"
   ]
  },
  {
   "cell_type": "code",
   "execution_count": null,
   "metadata": {},
   "outputs": [],
   "source": [
    "text_splitter = RecursiveCharacterTextSplitter(chunk_size    = 1000,\n",
    "                                               chunk_overlap = 100)\n",
    "\n",
    "doc_splits = text_splitter.split_documents(documento)"
   ]
  },
  {
   "cell_type": "code",
   "execution_count": null,
   "metadata": {},
   "outputs": [
    {
     "data": {
      "text/plain": [
       "'1.\\nIntroduction to LLMOps\\nGenerative AI models have gained wide popularity in recent times with the adoption of  \\ntransformer-based neural network architectures. Generative model’s ability to generate new data \\nenables them to go beyond traditional prediction and classification use cases. These models \\nare now used across domains and use cases like chatbots, question answering, fraud detection, \\nprotein folding and many more.\\nGenerative AI models for natural language use cases are powered by Large Language Models (LLMs). \\nLLMs are transformer-based Deep Learning architectures that harness vast amounts of textual \\ndata to develop language and domain understanding. The models are built with an emphasis on \\ngenerating human-like responses and reasoning. Their ability to understand human languages allows \\nthem to serve as powerful tools for information retrieval, natural language processing, language \\ntranslation and even creative writing.'"
      ]
     },
     "execution_count": 39,
     "metadata": {},
     "output_type": "execute_result"
    }
   ],
   "source": [
    "doc_splits[2].page_content\n"
   ]
  },
  {
   "cell_type": "code",
   "execution_count": null,
   "metadata": {},
   "outputs": [
    {
     "data": {
      "text/plain": [
       "{'source': 'llm_doc.pdf', 'page': 2}"
      ]
     },
     "execution_count": 17,
     "metadata": {},
     "output_type": "execute_result"
    }
   ],
   "source": [
    "doc_splits[2].metadata"
   ]
  },
  {
   "cell_type": "markdown",
   "metadata": {},
   "source": [
    "# Vector Store como dataframe"
   ]
  },
  {
   "cell_type": "code",
   "execution_count": null,
   "metadata": {},
   "outputs": [
    {
     "data": {
      "text/html": [
       "<div>\n",
       "<style scoped>\n",
       "    .dataframe tbody tr th:only-of-type {\n",
       "        vertical-align: middle;\n",
       "    }\n",
       "\n",
       "    .dataframe tbody tr th {\n",
       "        vertical-align: top;\n",
       "    }\n",
       "\n",
       "    .dataframe thead th {\n",
       "        text-align: right;\n",
       "    }\n",
       "</style>\n",
       "<table border=\"1\" class=\"dataframe\">\n",
       "  <thead>\n",
       "    <tr style=\"text-align: right;\">\n",
       "      <th></th>\n",
       "      <th>Chunks</th>\n",
       "      <th>Metadata</th>\n",
       "    </tr>\n",
       "  </thead>\n",
       "  <tbody>\n",
       "    <tr>\n",
       "      <th>0</th>\n",
       "      <td>Building Pipelines and Environments for  \\nLar...</td>\n",
       "      <td>{'source': 'llm_doc.pdf', 'page': 0}</td>\n",
       "    </tr>\n",
       "    <tr>\n",
       "      <th>1</th>\n",
       "      <td>Contents\\nIntroduction to LLMOps 1\\nWhy LLMOps...</td>\n",
       "      <td>{'source': 'llm_doc.pdf', 'page': 1}</td>\n",
       "    </tr>\n",
       "    <tr>\n",
       "      <th>2</th>\n",
       "      <td>1.\\nIntroduction to LLMOps\\nGenerative AI mode...</td>\n",
       "      <td>{'source': 'llm_doc.pdf', 'page': 2}</td>\n",
       "    </tr>\n",
       "    <tr>\n",
       "      <th>3</th>\n",
       "      <td>translation and even creative writing.\\nUsing ...</td>\n",
       "      <td>{'source': 'llm_doc.pdf', 'page': 2}</td>\n",
       "    </tr>\n",
       "    <tr>\n",
       "      <th>4</th>\n",
       "      <td>with LLMs. Together, these allow data scientis...</td>\n",
       "      <td>{'source': 'llm_doc.pdf', 'page': 2}</td>\n",
       "    </tr>\n",
       "  </tbody>\n",
       "</table>\n",
       "</div>"
      ],
      "text/plain": [
       "                                              Chunks  \\\n",
       "0  Building Pipelines and Environments for  \\nLar...   \n",
       "1  Contents\\nIntroduction to LLMOps 1\\nWhy LLMOps...   \n",
       "2  1.\\nIntroduction to LLMOps\\nGenerative AI mode...   \n",
       "3  translation and even creative writing.\\nUsing ...   \n",
       "4  with LLMs. Together, these allow data scientis...   \n",
       "\n",
       "                               Metadata  \n",
       "0  {'source': 'llm_doc.pdf', 'page': 0}  \n",
       "1  {'source': 'llm_doc.pdf', 'page': 1}  \n",
       "2  {'source': 'llm_doc.pdf', 'page': 2}  \n",
       "3  {'source': 'llm_doc.pdf', 'page': 2}  \n",
       "4  {'source': 'llm_doc.pdf', 'page': 2}  "
      ]
     },
     "execution_count": 5,
     "metadata": {},
     "output_type": "execute_result"
    }
   ],
   "source": [
    "data = [{'Chunks': doc.page_content, 'Metadata': doc.metadata} for doc in doc_splits]\n",
    "df_vector_store = pd.DataFrame(data)\n",
    "df_vector_store.head()"
   ]
  },
  {
   "cell_type": "code",
   "execution_count": null,
   "metadata": {},
   "outputs": [
    {
     "data": {
      "text/html": [
       "<div>\n",
       "<style scoped>\n",
       "    .dataframe tbody tr th:only-of-type {\n",
       "        vertical-align: middle;\n",
       "    }\n",
       "\n",
       "    .dataframe tbody tr th {\n",
       "        vertical-align: top;\n",
       "    }\n",
       "\n",
       "    .dataframe thead th {\n",
       "        text-align: right;\n",
       "    }\n",
       "</style>\n",
       "<table border=\"1\" class=\"dataframe\">\n",
       "  <thead>\n",
       "    <tr style=\"text-align: right;\">\n",
       "      <th></th>\n",
       "      <th>Chunks</th>\n",
       "      <th>Metadata</th>\n",
       "      <th>Embedding</th>\n",
       "    </tr>\n",
       "  </thead>\n",
       "  <tbody>\n",
       "    <tr>\n",
       "      <th>0</th>\n",
       "      <td>Building Pipelines and Environments for  \\nLar...</td>\n",
       "      <td>{'source': 'llm_doc.pdf', 'page': 0}</td>\n",
       "      <td>[-0.001881948, -0.012164683, 0.016830197, -0.0...</td>\n",
       "    </tr>\n",
       "    <tr>\n",
       "      <th>1</th>\n",
       "      <td>Contents\\nIntroduction to LLMOps 1\\nWhy LLMOps...</td>\n",
       "      <td>{'source': 'llm_doc.pdf', 'page': 1}</td>\n",
       "      <td>[0.0030545578, -0.0043646125, -0.0022074673, -...</td>\n",
       "    </tr>\n",
       "    <tr>\n",
       "      <th>2</th>\n",
       "      <td>1.\\nIntroduction to LLMOps\\nGenerative AI mode...</td>\n",
       "      <td>{'source': 'llm_doc.pdf', 'page': 2}</td>\n",
       "      <td>[-0.021225838, -0.008486297, -0.013957637, -0....</td>\n",
       "    </tr>\n",
       "    <tr>\n",
       "      <th>3</th>\n",
       "      <td>translation and even creative writing.\\nUsing ...</td>\n",
       "      <td>{'source': 'llm_doc.pdf', 'page': 2}</td>\n",
       "      <td>[-0.0065804324, -0.0055539976, -0.0033534896, ...</td>\n",
       "    </tr>\n",
       "    <tr>\n",
       "      <th>4</th>\n",
       "      <td>with LLMs. Together, these allow data scientis...</td>\n",
       "      <td>{'source': 'llm_doc.pdf', 'page': 2}</td>\n",
       "      <td>[0.006892844, -0.009389246, 0.002564013, -0.05...</td>\n",
       "    </tr>\n",
       "  </tbody>\n",
       "</table>\n",
       "</div>"
      ],
      "text/plain": [
       "                                              Chunks  \\\n",
       "0  Building Pipelines and Environments for  \\nLar...   \n",
       "1  Contents\\nIntroduction to LLMOps 1\\nWhy LLMOps...   \n",
       "2  1.\\nIntroduction to LLMOps\\nGenerative AI mode...   \n",
       "3  translation and even creative writing.\\nUsing ...   \n",
       "4  with LLMs. Together, these allow data scientis...   \n",
       "\n",
       "                               Metadata  \\\n",
       "0  {'source': 'llm_doc.pdf', 'page': 0}   \n",
       "1  {'source': 'llm_doc.pdf', 'page': 1}   \n",
       "2  {'source': 'llm_doc.pdf', 'page': 2}   \n",
       "3  {'source': 'llm_doc.pdf', 'page': 2}   \n",
       "4  {'source': 'llm_doc.pdf', 'page': 2}   \n",
       "\n",
       "                                           Embedding  \n",
       "0  [-0.001881948, -0.012164683, 0.016830197, -0.0...  \n",
       "1  [0.0030545578, -0.0043646125, -0.0022074673, -...  \n",
       "2  [-0.021225838, -0.008486297, -0.013957637, -0....  \n",
       "3  [-0.0065804324, -0.0055539976, -0.0033534896, ...  \n",
       "4  [0.006892844, -0.009389246, 0.002564013, -0.05...  "
      ]
     },
     "execution_count": 6,
     "metadata": {},
     "output_type": "execute_result"
    }
   ],
   "source": [
    "from openai import OpenAI\n",
    "import numpy as np\n",
    "import json\n",
    "file_name = open('credentials.json')\n",
    "config_env = json.load(file_name)\n",
    "api_key = config_env[\"openai_key\"]\n",
    "client = OpenAI(api_key=api_key)\n",
    "def text_embedding(text=[]):\n",
    "    embeddings = client.embeddings.create(model=\"text-embedding-ada-002\",\n",
    "                                          input=text,\n",
    "                                          encoding_format=\"float\")\n",
    "    return embeddings.data[0].embedding\n",
    "\n",
    "df_vector_store[\"Embedding\"] = df_vector_store[\"Chunks\"].apply(lambda x: text_embedding([x]))\n",
    "df_vector_store[\"Embedding\"] = df_vector_store[\"Embedding\"].apply(np.array)\n",
    "\n",
    "df_vector_store.to_pickle('df_vector_store.pkl')\n",
    "df_vector_store.head()"
   ]
  },
  {
   "cell_type": "markdown",
   "metadata": {},
   "source": [
    "# FORMULACION PREGUNTAS"
   ]
  },
  {
   "cell_type": "code",
   "execution_count": 146,
   "metadata": {},
   "outputs": [],
   "source": [
    "import pandas as pd\n",
    "data = {\n",
    "    \"Pregunta\": [\n",
    "        \"¿Qué es un LLM?\",\n",
    "        \"¿Qué tareas puede realizar un LLM?\",\n",
    "        \"Menciona un ejemplo de LLM.\",\n",
    "        \"¿Cuál es la principal limitación de los LLM?\",\n",
    "        \"¿Qué significa 'fine-tuning' en LLM?\",\n",
    "        \"¿Cómo se entrenan los LLM?\",\n",
    "        \"¿Qué es el 'prompt engineering'?\",\n",
    "        \"¿Cuál es el futuro de los LLM?\"\n",
    "    ],\n",
    "    \"Respuesta\": [\n",
    "        \"Un modelo de lenguaje extenso.\",\n",
    "        \"Traducción, resumen, preguntas-respuestas.\",\n",
    "        \"GPT-4 de OpenAI.\",\n",
    "        \"Sesgos en los datos de entrenamiento.\",\n",
    "        \"Adaptar un modelo preentrenado.\",\n",
    "        \"Con grandes cantidades de texto.\",\n",
    "        \"Diseño eficaz de entradas.\",\n",
    "        \"Integración en más aplicaciones.\"\n",
    "    ]\n",
    "}\n",
    "\n",
    "path = \"D:/Downloads/INTELIGENCIA ARTIFICIAL/PARCIAL FINAAL/\"\n",
    "df_inicial = pd.DataFrame(data)\n",
    "df_inicial.to_excel(path +\"preg_llm.xlsx\", index=False)\n"
   ]
  },
  {
   "cell_type": "code",
   "execution_count": null,
   "metadata": {},
   "outputs": [
    {
     "data": {
      "text/html": [
       "<div>\n",
       "<style scoped>\n",
       "    .dataframe tbody tr th:only-of-type {\n",
       "        vertical-align: middle;\n",
       "    }\n",
       "\n",
       "    .dataframe tbody tr th {\n",
       "        vertical-align: top;\n",
       "    }\n",
       "\n",
       "    .dataframe thead th {\n",
       "        text-align: right;\n",
       "    }\n",
       "</style>\n",
       "<table border=\"1\" class=\"dataframe\">\n",
       "  <thead>\n",
       "    <tr style=\"text-align: right;\">\n",
       "      <th></th>\n",
       "      <th>Question</th>\n",
       "      <th>Embedding</th>\n",
       "    </tr>\n",
       "  </thead>\n",
       "  <tbody>\n",
       "    <tr>\n",
       "      <th>0</th>\n",
       "      <td>¿Qué es un LLM?</td>\n",
       "      <td>[-0.00087663543, -0.0013009467, -0.00683512, -...</td>\n",
       "    </tr>\n",
       "    <tr>\n",
       "      <th>1</th>\n",
       "      <td>¿Qué tareas puede realizar un LLM?</td>\n",
       "      <td>[-0.0047516758, -0.012052533, 0.007892268, -0....</td>\n",
       "    </tr>\n",
       "    <tr>\n",
       "      <th>2</th>\n",
       "      <td>Menciona un ejemplo de LLM.</td>\n",
       "      <td>[-0.003865082, 0.006420198, 0.004356319, -0.01...</td>\n",
       "    </tr>\n",
       "    <tr>\n",
       "      <th>3</th>\n",
       "      <td>¿Cuál es la principal limitación de los LLM?</td>\n",
       "      <td>[0.0052487487, -0.015034105, 0.006363119, -0.0...</td>\n",
       "    </tr>\n",
       "    <tr>\n",
       "      <th>4</th>\n",
       "      <td>¿Qué significa 'fine-tuning' en LLM?</td>\n",
       "      <td>[-0.021322072, -0.005418947, 0.010116311, -0.0...</td>\n",
       "    </tr>\n",
       "  </tbody>\n",
       "</table>\n",
       "</div>"
      ],
      "text/plain": [
       "                                       Question  \\\n",
       "0                               ¿Qué es un LLM?   \n",
       "1            ¿Qué tareas puede realizar un LLM?   \n",
       "2                   Menciona un ejemplo de LLM.   \n",
       "3  ¿Cuál es la principal limitación de los LLM?   \n",
       "4          ¿Qué significa 'fine-tuning' en LLM?   \n",
       "\n",
       "                                           Embedding  \n",
       "0  [-0.00087663543, -0.0013009467, -0.00683512, -...  \n",
       "1  [-0.0047516758, -0.012052533, 0.007892268, -0....  \n",
       "2  [-0.003865082, 0.006420198, 0.004356319, -0.01...  \n",
       "3  [0.0052487487, -0.015034105, 0.006363119, -0.0...  \n",
       "4  [-0.021322072, -0.005418947, 0.010116311, -0.0...  "
      ]
     },
     "execution_count": 9,
     "metadata": {},
     "output_type": "execute_result"
    }
   ],
   "source": [
    "query = [\"¿Qué es un LLM?\",\n",
    "        \"¿Qué tareas puede realizar un LLM?\",\n",
    "        \"Menciona un ejemplo de LLM.\",\n",
    "        \"¿Cuál es la principal limitación de los LLM?\",\n",
    "        \"¿Qué significa 'fine-tuning' en LLM?\",\n",
    "        \"¿Cómo se entrenan los LLM?\",\n",
    "        \"¿Qué es el 'prompt engineering'?\",\n",
    "        \"¿Cuál es el futuro de los LLM?\"\n",
    "]\n",
    "# Generar la representación vectorial (embedding) de la consulta de texto utilizando la función 'text_embedding'.\n",
    "query_embedding = [text_embedding(question) for question in query]\n",
    "query_embedding\n",
    "\n",
    "questions_df = pd.DataFrame({\n",
    "    \"Question\": query,\n",
    "    \"Embedding\": [np.array(embed) for embed in query_embedding]\n",
    "})\n",
    "\n",
    "questions_df.head()"
   ]
  },
  {
   "cell_type": "code",
   "execution_count": 42,
   "metadata": {},
   "outputs": [],
   "source": [
    "def get_dot_product(row):\n",
    "    return np.dot(row, query_vector)\n",
    "\n",
    "def cosine_similarity(row):\n",
    "    query_vector_flat = query_vector.mean(axis=0)  \n",
    "    denominator1 = np.linalg.norm(row)\n",
    "    denominator2 = np.linalg.norm(query_vector_flat)\n",
    "    dot_prod = np.dot(row, query_vector_flat)\n",
    "    return dot_prod / (denominator1 * denominator2)\n",
    "\n",
    "def get_context_from_query(query, vector_store, n_chunks = 5):\n",
    "    global query_vector\n",
    "    query_vector = np.array(query_embedding)\n",
    "    top_matched = (\n",
    "        vector_store[\"Embedding\"]\n",
    "        .apply(cosine_similarity)\n",
    "        .sort_values(ascending=False)[:n_chunks]\n",
    "        .index)\n",
    "    top_matched_df = vector_store[vector_store.index.isin(top_matched)][[\"Chunks\"]]\n",
    "    return list(top_matched_df['Chunks'])\n",
    "\n"
   ]
  },
  {
   "cell_type": "code",
   "execution_count": 46,
   "metadata": {},
   "outputs": [],
   "source": [
    "df = pd.read_excel(path +\"preg_llm.xlsx\")\n",
    "preguntas = df['Pregunta'].tolist()\n",
    "respuestas_propuestas = df['Respuesta'].tolist()"
   ]
  },
  {
   "cell_type": "code",
   "execution_count": 56,
   "metadata": {},
   "outputs": [],
   "source": [
    "def coseno(row1,row2):\n",
    "    query_vector_flat = query_vector.mean(axis=0)  \n",
    "    denominator1 = np.linalg.norm(row1.ravel())\n",
    "    denominator2 = np.linalg.norm(row2.ravel())\n",
    "    dot_prod = np.dot(row1, row2)\n",
    "    return dot_prod / (denominator1 * denominator2)"
   ]
  },
  {
   "cell_type": "markdown",
   "metadata": {},
   "source": [
    "# pregunta1"
   ]
  },
  {
   "cell_type": "code",
   "execution_count": 48,
   "metadata": {},
   "outputs": [],
   "source": [
    "Context_List1 = get_context_from_query(query = query[0],vector_store = df_vector_store,n_chunks = 5)\n",
    "completion = client.chat.completions.create(\n",
    "        model=\"gpt-4\",\n",
    "        temperature=0.0,\n",
    "        messages=[{\"role\": \"system\", \"content\": custom_prompt.format(source = str(Context_List1))},\n",
    "                  {\"role\": \"user\", \"content\": query[0]}]\n",
    "    )\n",
    "resp1=completion.choices[0].message.content\n"
   ]
  },
  {
   "cell_type": "code",
   "execution_count": 52,
   "metadata": {},
   "outputs": [],
   "source": [
    "res_chat1 = np.array(text_embedding(resp1))\n",
    "res_prop1 = np.array(text_embedding(respuestas_propuestas[0]))"
   ]
  },
  {
   "cell_type": "code",
   "execution_count": 57,
   "metadata": {},
   "outputs": [
    {
     "data": {
      "text/plain": [
       "0.8526373709695826"
      ]
     },
     "execution_count": 57,
     "metadata": {},
     "output_type": "execute_result"
    }
   ],
   "source": [
    "similitud1 = coseno(res_prop1,res_chat1)\n",
    "similitud1"
   ]
  },
  {
   "cell_type": "markdown",
   "metadata": {},
   "source": [
    "# Pregunta2"
   ]
  },
  {
   "cell_type": "code",
   "execution_count": 60,
   "metadata": {},
   "outputs": [],
   "source": [
    "Context_List2 = get_context_from_query(query = query[1],vector_store = df_vector_store,n_chunks = 5)\n",
    "completion = client.chat.completions.create(\n",
    "        model=\"gpt-4\",\n",
    "        temperature=0.0,\n",
    "        messages=[{\"role\": \"system\", \"content\": custom_prompt.format(source = str(Context_List2))},\n",
    "                  {\"role\": \"user\", \"content\": query[1]}]\n",
    "    )\n",
    "resp2=completion.choices[0].message.content"
   ]
  },
  {
   "cell_type": "code",
   "execution_count": 63,
   "metadata": {},
   "outputs": [],
   "source": [
    "res_chat2 = np.array(text_embedding(resp2))\n",
    "res_prop2 = np.array(text_embedding(respuestas_propuestas[1]))"
   ]
  },
  {
   "cell_type": "code",
   "execution_count": 64,
   "metadata": {},
   "outputs": [
    {
     "data": {
      "text/plain": [
       "0.805270081328686"
      ]
     },
     "execution_count": 64,
     "metadata": {},
     "output_type": "execute_result"
    }
   ],
   "source": [
    "similitud2 = coseno(res_prop2,res_chat2)\n",
    "similitud2"
   ]
  },
  {
   "cell_type": "markdown",
   "metadata": {},
   "source": [
    "# Pregunta3"
   ]
  },
  {
   "cell_type": "code",
   "execution_count": 65,
   "metadata": {},
   "outputs": [
    {
     "data": {
      "text/plain": [
       "0.7920332488023983"
      ]
     },
     "execution_count": 65,
     "metadata": {},
     "output_type": "execute_result"
    }
   ],
   "source": [
    "Context_List3 = get_context_from_query(query = query[2],vector_store = df_vector_store,n_chunks = 5)\n",
    "completion = client.chat.completions.create(\n",
    "        model=\"gpt-4\",\n",
    "        temperature=0.0,\n",
    "        messages=[{\"role\": \"system\", \"content\": custom_prompt.format(source = str(Context_List3))},\n",
    "                  {\"role\": \"user\", \"content\": query[2]}]\n",
    "    )\n",
    "resp3=completion.choices[0].message.content\n",
    "res_chat3 = np.array(text_embedding(resp3))\n",
    "res_prop3 = np.array(text_embedding(respuestas_propuestas[2]))\n",
    "similitud3 = coseno(res_prop3,res_chat3)\n",
    "similitud3"
   ]
  },
  {
   "cell_type": "markdown",
   "metadata": {},
   "source": [
    "# Pregunta 4"
   ]
  },
  {
   "cell_type": "code",
   "execution_count": 66,
   "metadata": {},
   "outputs": [
    {
     "data": {
      "text/plain": [
       "0.7797531730039463"
      ]
     },
     "execution_count": 66,
     "metadata": {},
     "output_type": "execute_result"
    }
   ],
   "source": [
    "Context_List4 = get_context_from_query(query = query[3],vector_store = df_vector_store,n_chunks = 5)\n",
    "completion = client.chat.completions.create(\n",
    "        model=\"gpt-4\",\n",
    "        temperature=0.0,\n",
    "        messages=[{\"role\": \"system\", \"content\": custom_prompt.format(source = str(Context_List4))},\n",
    "                  {\"role\": \"user\", \"content\": query[3]}]\n",
    "    )\n",
    "resp4=completion.choices[0].message.content\n",
    "res_chat4 = np.array(text_embedding(resp4))\n",
    "res_prop4 = np.array(text_embedding(respuestas_propuestas[3]))\n",
    "similitud4 = coseno(res_prop4,res_chat4)\n",
    "similitud4"
   ]
  },
  {
   "cell_type": "markdown",
   "metadata": {},
   "source": [
    "# Pregunta 5"
   ]
  },
  {
   "cell_type": "code",
   "execution_count": 67,
   "metadata": {},
   "outputs": [
    {
     "data": {
      "text/plain": [
       "0.8342678333579922"
      ]
     },
     "execution_count": 67,
     "metadata": {},
     "output_type": "execute_result"
    }
   ],
   "source": [
    "Context_List5 = get_context_from_query(query = query[4],vector_store = df_vector_store,n_chunks = 5)\n",
    "completion = client.chat.completions.create(\n",
    "        model=\"gpt-4\",\n",
    "        temperature=0.0,\n",
    "        messages=[{\"role\": \"system\", \"content\": custom_prompt.format(source = str(Context_List5))},\n",
    "                  {\"role\": \"user\", \"content\": query[4]}]\n",
    "    )\n",
    "resp5=completion.choices[0].message.content\n",
    "res_chat5 = np.array(text_embedding(resp5))\n",
    "res_prop5 = np.array(text_embedding(respuestas_propuestas[4]))\n",
    "similitud5 = coseno(res_prop5,res_chat5)\n",
    "similitud5"
   ]
  },
  {
   "cell_type": "markdown",
   "metadata": {},
   "source": [
    "# Pregunta 6"
   ]
  },
  {
   "cell_type": "code",
   "execution_count": 68,
   "metadata": {},
   "outputs": [
    {
     "data": {
      "text/plain": [
       "0.8195957817824028"
      ]
     },
     "execution_count": 68,
     "metadata": {},
     "output_type": "execute_result"
    }
   ],
   "source": [
    "Context_List6 = get_context_from_query(query = query[5],vector_store = df_vector_store,n_chunks = 5)\n",
    "completion = client.chat.completions.create(\n",
    "        model=\"gpt-4\",\n",
    "        temperature=0.0,\n",
    "        messages=[{\"role\": \"system\", \"content\": custom_prompt.format(source = str(Context_List6))},\n",
    "                  {\"role\": \"user\", \"content\": query[5]}]\n",
    "    )\n",
    "resp6=completion.choices[0].message.content\n",
    "res_chat6 = np.array(text_embedding(resp6))\n",
    "res_prop6 = np.array(text_embedding(respuestas_propuestas[5]))\n",
    "similitud6 = coseno(res_prop6,res_chat6)\n",
    "similitud6"
   ]
  },
  {
   "cell_type": "markdown",
   "metadata": {},
   "source": [
    "# Pregunta 7"
   ]
  },
  {
   "cell_type": "code",
   "execution_count": 69,
   "metadata": {},
   "outputs": [
    {
     "data": {
      "text/plain": [
       "0.7839545334430159"
      ]
     },
     "execution_count": 69,
     "metadata": {},
     "output_type": "execute_result"
    }
   ],
   "source": [
    "Context_List7 = get_context_from_query(query = query[6],vector_store = df_vector_store,n_chunks = 5)\n",
    "completion = client.chat.completions.create(\n",
    "        model=\"gpt-4\",\n",
    "        temperature=0.0,\n",
    "        messages=[{\"role\": \"system\", \"content\": custom_prompt.format(source = str(Context_List7))},\n",
    "                  {\"role\": \"user\", \"content\": query[6]}]\n",
    "    )\n",
    "resp7=completion.choices[0].message.content\n",
    "res_chat7 = np.array(text_embedding(resp7))\n",
    "res_prop7 = np.array(text_embedding(respuestas_propuestas[6]))\n",
    "similitud7 = coseno(res_prop7,res_chat7)\n",
    "similitud7"
   ]
  },
  {
   "cell_type": "markdown",
   "metadata": {},
   "source": [
    "# Pregunta 8"
   ]
  },
  {
   "cell_type": "code",
   "execution_count": 70,
   "metadata": {},
   "outputs": [
    {
     "data": {
      "text/plain": [
       "0.7885668358148565"
      ]
     },
     "execution_count": 70,
     "metadata": {},
     "output_type": "execute_result"
    }
   ],
   "source": [
    "Context_List8 = get_context_from_query(query = query[7],vector_store = df_vector_store,n_chunks = 5)\n",
    "completion = client.chat.completions.create(\n",
    "        model=\"gpt-4\",\n",
    "        temperature=0.0,\n",
    "        messages=[{\"role\": \"system\", \"content\": custom_prompt.format(source = str(Context_List8))},\n",
    "                  {\"role\": \"user\", \"content\": query[7]}]\n",
    "    )\n",
    "resp8=completion.choices[0].message.content\n",
    "res_chat8 = np.array(text_embedding(resp8))\n",
    "res_prop8 = np.array(text_embedding(respuestas_propuestas[7]))\n",
    "similitud8 = coseno(res_prop8,res_chat8)\n",
    "similitud8"
   ]
  },
  {
   "cell_type": "markdown",
   "metadata": {},
   "source": [
    "# Grafica distribucion acumulada"
   ]
  },
  {
   "cell_type": "code",
   "execution_count": 140,
   "metadata": {},
   "outputs": [
    {
     "name": "stdout",
     "output_type": "stream",
     "text": [
      "Resultado acumulado de aciertos: [1, 2, 3, 3, 4, 5, 6, 7]\n"
     ]
    },
    {
     "data": {
      "image/png": "[encoded data removed]",
      "text/plain": [
       "<Figure size 640x480 with 1 Axes>"
      ]
     },
     "metadata": {},
     "output_type": "display_data"
    }
   ],
   "source": [
    "import numpy as np\n",
    "import matplotlib.pyplot as plt\n",
    "\n",
    "similitudes_t = (similitud1, similitud2, similitud3, similitud4, similitud5, similitud6, similitud7, similitud8)\n",
    "\n",
    "resultado = []\n",
    "\n",
    "aciertos = 0\n",
    "for prob in similitudes_t:\n",
    "    if prob >= 0.78:\n",
    "        aciertos += 1\n",
    "    resultado.append(aciertos)\n",
    "print(\"Resultado acumulado de aciertos:\", resultado)\n",
    "x = np.arange(1, len(resultado) + 1)\n",
    "from scipy.interpolate import interp1d\n",
    "f = interp1d(x, resultado, kind='linear')\n",
    "x_smooth = np.linspace(1, len(resultado), 500)  # 500 puntos entre 1 y 8\n",
    "y_smooth = f(x_smooth)\n",
    "plt.plot(x_smooth, y_smooth, marker='', linestyle='-', color='b', lw=2)\n",
    "plt.title(\"Distribución Acumulada de Aciertos\")\n",
    "plt.xlabel(\"Número de Preguntas\")\n",
    "plt.ylabel(\"Aciertos Acumulados\")\n",
    "plt.xticks(np.arange(1, len(resultado) + 1))\n",
    "plt.yticks(np.arange(0, max(resultado)+1, 1))\n",
    "plt.grid(True, linestyle=\"--\", alpha=0.6)\n",
    "plt.show()\n"
   ]
  },
  {
   "cell_type": "code",
   "execution_count": 141,
   "metadata": {},
   "outputs": [
    {
     "name": "stdout",
     "output_type": "stream",
     "text": [
      "Resultado acumulado de aciertos: [1, 2, 3, 3, 4, 5, 6, 7]\n",
      "El accuracy de el chatbot es de: 0.875\n"
     ]
    }
   ],
   "source": [
    "print(\"Resultado acumulado de aciertos:\", resultado)\n",
    "accuracy = f\"El accuracy de el chatbot es de: {max(resultado)/8}\"\n",
    "print(accuracy)"
   ]
  }
 ],
 "metadata": {
  "kernelspec": {
   "display_name": "my_env",
   "language": "python",
   "name": "python3"
  },
  "language_info": {
   "codemirror_mode": {
    "name": "ipython",
    "version": 3
   },
   "file_extension": ".py",
   "mimetype": "text/x-python",
   "name": "python",
   "nbconvert_exporter": "python",
   "pygments_lexer": "ipython3",
   "version": "3.10.11"
  }
 },
 "nbformat": 4,
 "nbformat_minor": 2
}
